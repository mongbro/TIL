{
  "nbformat": 4,
  "nbformat_minor": 0,
  "metadata": {
    "colab": {
      "name": "3. Airline",
      "provenance": [],
      "collapsed_sections": [],
      "mount_file_id": "17Tr__tb1ZmeJ94aD_iQOsg1pApvudMRM",
      "authorship_tag": "ABX9TyOWUajUXnZb/GnGtu6MLk3d",
      "include_colab_link": true
    },
    "kernelspec": {
      "name": "python3",
      "display_name": "Python 3"
    },
    "accelerator": "GPU"
  },
  "cells": [
    {
      "cell_type": "markdown",
      "metadata": {
        "id": "view-in-github",
        "colab_type": "text"
      },
      "source": [
        "<a href=\"https://colab.research.google.com/github/mongbro/TIL/blob/master/3_Airline.ipynb\" target=\"_parent\"><img src=\"https://colab.research.google.com/assets/colab-badge.svg\" alt=\"Open In Colab\"/></a>"
      ]
    },
    {
      "cell_type": "markdown",
      "metadata": {
        "id": "vv5r-myEyrmZ"
      },
      "source": [
        "### keras RNN으로 여행자 수 예측"
      ]
    },
    {
      "cell_type": "markdown",
      "metadata": {
        "id": "Hkn3gNVhyx3R"
      },
      "source": [
        "1. 패키지 수입 및 파라미터 설정"
      ]
    },
    {
      "cell_type": "code",
      "metadata": {
        "id": "s7u9XS9HyrVL"
      },
      "source": [
        "# 패키지 수입\r\n",
        "import pandas as pd\r\n",
        "import numpy as np\r\n",
        "import matplotlib.pyplot as plt\r\n",
        "\r\n",
        "from time import time\r\n",
        "from sklearn.preprocessing import MinMaxScaler, StandardScaler\r\n",
        "from keras.layers import Dense\r\n",
        "from keras.layers import LSTM, InputLayer\r\n",
        "from keras.models import Sequential\r\n",
        "from sklearn.model_selection import train_test_split"
      ],
      "execution_count": 1,
      "outputs": []
    },
    {
      "cell_type": "code",
      "metadata": {
        "id": "4I_lGGi_0KNB"
      },
      "source": [
        "# 파라미터 설정\r\n",
        "MY_PAST = 12\r\n",
        "MY_SPLIT = 0.8\r\n",
        "MY_HIDDEN = 300\r\n",
        "MY_SHAPE = (MY_PAST, 1)\r\n",
        "MY_EPOCH = 300"
      ],
      "execution_count": 2,
      "outputs": []
    },
    {
      "cell_type": "markdown",
      "metadata": {
        "id": "GJxeQ-JZ0nEI"
      },
      "source": [
        "2. 데이터 처리"
      ]
    },
    {
      "cell_type": "code",
      "metadata": {
        "colab": {
          "base_uri": "https://localhost:8080/"
        },
        "id": "_aEOa03I0p7n",
        "outputId": "f69f74af-c7c9-497a-fcb1-c0b9b1ed9d2f"
      },
      "source": [
        "# 데이터 읽기\r\n",
        "raw = pd.read_csv('/content/drive/MyDrive/Colab Notebooks/data/airline.csv',\r\n",
        "                  header = None,         # 칼럼 이름들 <= csv 파일에 칼럼 이름이 없으므로 넣어줘야한다\r\n",
        "                  usecols = [1])\r\n",
        "\r\n",
        "# 샘플 출력\r\n",
        "print(raw.head(15))\r\n",
        "print(raw.describe())"
      ],
      "execution_count": 3,
      "outputs": [
        {
          "output_type": "stream",
          "text": [
            "      1\n",
            "0   112\n",
            "1   118\n",
            "2   132\n",
            "3   129\n",
            "4   121\n",
            "5   135\n",
            "6   148\n",
            "7   148\n",
            "8   136\n",
            "9   119\n",
            "10  104\n",
            "11  118\n",
            "12  115\n",
            "13  126\n",
            "14  141\n",
            "                1\n",
            "count  144.000000\n",
            "mean   280.298611\n",
            "std    119.966317\n",
            "min    104.000000\n",
            "25%    180.000000\n",
            "50%    265.500000\n",
            "75%    360.500000\n",
            "max    622.000000\n"
          ],
          "name": "stdout"
        }
      ]
    },
    {
      "cell_type": "code",
      "metadata": {
        "colab": {
          "base_uri": "https://localhost:8080/",
          "height": 338
        },
        "id": "dxrG3kwb3kM_",
        "outputId": "9e317185-6d0b-433f-f6ac-d0f4803509a6"
      },
      "source": [
        "plt.figure(figsize = (10,5))\r\n",
        "plt.plot(raw)"
      ],
      "execution_count": 4,
      "outputs": [
        {
          "output_type": "execute_result",
          "data": {
            "text/plain": [
              "[<matplotlib.lines.Line2D at 0x7f781ffb7358>]"
            ]
          },
          "metadata": {
            "tags": []
          },
          "execution_count": 4
        },
        {
          "output_type": "display_data",
          "data": {
            "image/png": "[encoded data removed]",
            "text/plain": [
              "<Figure size 720x360 with 1 Axes>"
            ]
          },
          "metadata": {
            "tags": [],
            "needs_background": "light"
          }
        }
      ]
    },
    {
      "cell_type": "code",
      "metadata": {
        "colab": {
          "base_uri": "https://localhost:8080/",
          "height": 788
        },
        "id": "siOVaVU83_mO",
        "outputId": "6823afa0-bcda-4db5-b16a-8bdba981b2d1"
      },
      "source": [
        "# 데이터 정규화\r\n",
        "scaler = MinMaxScaler()       # numpy로 만들어짐\r\n",
        "#scaler = StandardScaler()      # z-정규화\r\n",
        "s_data = scaler.fit_transform(raw)  \r\n",
        "\r\n",
        "print(type(s_data))\r\n",
        "print(s_data.flatten())\r\n",
        "plt.figure(figsize = (10,5))\r\n",
        "plt.plot(s_data)"
      ],
      "execution_count": 5,
      "outputs": [
        {
          "output_type": "stream",
          "text": [
            "<class 'numpy.ndarray'>\n",
            "[0.01544402 0.02702703 0.05405405 0.04826255 0.03281853 0.05984556\n",
            " 0.08494208 0.08494208 0.06177606 0.02895753 0.         0.02702703\n",
            " 0.02123552 0.04247104 0.07142857 0.05984556 0.04054054 0.08687259\n",
            " 0.12741313 0.12741313 0.1042471  0.05598456 0.01930502 0.06949807\n",
            " 0.07915058 0.08880309 0.14285714 0.11389961 0.13127413 0.14285714\n",
            " 0.18339768 0.18339768 0.15444015 0.11196911 0.08108108 0.11969112\n",
            " 0.12934363 0.14671815 0.17181467 0.14864865 0.15250965 0.22007722\n",
            " 0.24324324 0.26640927 0.2027027  0.16795367 0.13127413 0.17374517\n",
            " 0.17760618 0.17760618 0.25482625 0.25289575 0.24131274 0.26833977\n",
            " 0.30888031 0.32432432 0.25675676 0.20656371 0.14671815 0.18725869\n",
            " 0.19305019 0.16216216 0.25289575 0.23745174 0.25096525 0.30888031\n",
            " 0.38223938 0.36486486 0.2992278  0.24131274 0.19111969 0.24131274\n",
            " 0.26640927 0.24903475 0.31467181 0.31853282 0.32046332 0.40733591\n",
            " 0.5019305  0.46911197 0.4015444  0.32818533 0.25675676 0.33590734\n",
            " 0.34749035 0.33397683 0.41119691 0.4034749  0.41312741 0.52123552\n",
            " 0.5965251  0.58108108 0.48455598 0.38996139 0.32239382 0.38996139\n",
            " 0.40733591 0.38030888 0.48648649 0.47104247 0.48455598 0.61389961\n",
            " 0.6969112  0.7007722  0.57915058 0.46911197 0.38803089 0.44787645\n",
            " 0.45559846 0.41312741 0.4980695  0.47104247 0.5        0.63899614\n",
            " 0.74710425 0.77413127 0.57915058 0.49227799 0.3976834  0.44980695\n",
            " 0.49420849 0.45945946 0.58301158 0.56370656 0.61003861 0.71042471\n",
            " 0.85714286 0.87837838 0.69305019 0.58494208 0.4980695  0.58108108\n",
            " 0.6042471  0.55405405 0.60810811 0.68918919 0.71042471 0.83204633\n",
            " 1.         0.96911197 0.77992278 0.68918919 0.55212355 0.63320463]\n"
          ],
          "name": "stdout"
        },
        {
          "output_type": "execute_result",
          "data": {
            "text/plain": [
              "[<matplotlib.lines.Line2D at 0x7f781fa8deb8>]"
            ]
          },
          "metadata": {
            "tags": []
          },
          "execution_count": 5
        },
        {
          "output_type": "display_data",
          "data": {
            "image/png": "[encoded data removed]",
            "text/plain": [
              "<Figure size 720x360 with 1 Axes>"
            ]
          },
          "metadata": {
            "tags": [],
            "needs_background": "light"
          }
        }
      ]
    },
    {
      "cell_type": "code",
      "metadata": {
        "colab": {
          "base_uri": "https://localhost:8080/"
        },
        "id": "keniX4skKwH5",
        "outputId": "8e21007b-cc4b-4e62-98d9-c46071e4c888"
      },
      "source": [
        "# 데이터 분할\r\n",
        "data = []\r\n",
        "\r\n",
        "for i in range (len(s_data) - MY_PAST):\r\n",
        "    data.append(s_data[i : i + MY_PAST + 1])\r\n",
        "                    # [출발점 : 도착점 - 1]\r\n",
        "print('한 묶음의 크기 :', len(data[0]))\r\n",
        "print('총 묶음의 수 :', len(data))\r\n",
        "print('첫번째 묶음 내용 \\n', data[0])"
      ],
      "execution_count": 6,
      "outputs": [
        {
          "output_type": "stream",
          "text": [
            "한 묶음의 크기 : 13\n",
            "총 묶음의 수 : 132\n",
            "첫번째 묶음 내용 \n",
            " [[0.01544402]\n",
            " [0.02702703]\n",
            " [0.05405405]\n",
            " [0.04826255]\n",
            " [0.03281853]\n",
            " [0.05984556]\n",
            " [0.08494208]\n",
            " [0.08494208]\n",
            " [0.06177606]\n",
            " [0.02895753]\n",
            " [0.        ]\n",
            " [0.02702703]\n",
            " [0.02123552]]\n"
          ],
          "name": "stdout"
        }
      ]
    },
    {
      "cell_type": "code",
      "metadata": {
        "colab": {
          "base_uri": "https://localhost:8080/"
        },
        "id": "HDnzB1gUVff1",
        "outputId": "f25c84d3-4472-467b-e5f4-46f7e9ec6e16"
      },
      "source": [
        "# 데이터를 numpy로 전환\r\n",
        "print(type(data))\r\n",
        "data = np.array(data)\r\n",
        "print(type(data))\r\n",
        "\r\n",
        "# 묶음들을 임의로 섞음\r\n",
        "np.random.shuffle(data)\r\n",
        "print(data.shape)\r\n",
        "\r\n",
        "# 데이터를 입력과 출력으로 분할\r\n",
        "X_data = data[:, 0 : MY_PAST]   # 입력데이터 열 : 0 ~ 11(MY_PAST - 1)   [행 자르는 곳, 열 자르는 곳]\r\n",
        "Y_data = data[:, -1]            # 출력데이터 열 : 12만  (MY_PAST)       [:,:] 행을 모두 취한다, 열을 모두 취한다.\r\n",
        "\r\n",
        "print('입력 데이터 모양 :', X_data.shape)\r\n",
        "print('출력 데이터 모양 :', Y_data.shape)"
      ],
      "execution_count": 7,
      "outputs": [
        {
          "output_type": "stream",
          "text": [
            "<class 'list'>\n",
            "<class 'numpy.ndarray'>\n",
            "(132, 13, 1)\n",
            "입력 데이터 모양 : (132, 12, 1)\n",
            "출력 데이터 모양 : (132, 1)\n"
          ],
          "name": "stdout"
        }
      ]
    },
    {
      "cell_type": "code",
      "metadata": {
        "colab": {
          "base_uri": "https://localhost:8080/"
        },
        "id": "SgaFNyKLdPa8",
        "outputId": "bbc4feb3-d95d-4202-c9e4-61d766172757"
      },
      "source": [
        "# 데이터 4분할\r\n",
        "X_train, X_test, Y_train, Y_test = train_test_split(X_data, Y_data, train_size = MY_SPLIT)\r\n",
        "\r\n",
        "# 최종 데이터 모양 출력\r\n",
        "print('학습용 입력데이터 모양 :', X_train.shape)\r\n",
        "print('학습용 출력데이터 모양 :', Y_train.shape)\r\n",
        "print('평가용 입력데이터 모양 :', X_test.shape)\r\n",
        "print('평가용 출력데이터 모양 :', Y_test.shape)"
      ],
      "execution_count": 14,
      "outputs": [
        {
          "output_type": "stream",
          "text": [
            "학습용 입력데이터 모양 : (105, 12, 1)\n",
            "학습용 출력데이터 모양 : (105, 1)\n",
            "평가용 입력데이터 모양 : (27, 12, 1)\n",
            "평가용 출력데이터 모양 : (27, 1)\n"
          ],
          "name": "stdout"
        }
      ]
    },
    {
      "cell_type": "markdown",
      "metadata": {
        "id": "WXjp0Oudd2a6"
      },
      "source": [
        "3. 인공 신경망 구현"
      ]
    },
    {
      "cell_type": "code",
      "metadata": {
        "colab": {
          "base_uri": "https://localhost:8080/"
        },
        "id": "g72kMGf5d5Ty",
        "outputId": "1bebd0c2-49fb-4797-f794-350b3184013b"
      },
      "source": [
        "# RNN 구현\r\n",
        "model = Sequential()\r\n",
        "\r\n",
        "model.add(InputLayer(input_shape = MY_SHAPE))\r\n",
        "\r\n",
        "model.add(LSTM(units = MY_HIDDEN))\r\n",
        "\r\n",
        "model.add(Dense(units = 1, activation = 'sigmoid'))\r\n",
        "      # 지금까지 배운 활성화 함수 : relu(갯수를 정해주는 활성화 함수), softmax(확률을 만드는 활성화 함수)\r\n",
        "      # sigmoid 활성화함수 : 딥러닝에서 가장 많이 쓰이는 함수\r\n",
        "                           # 확률을 만드는 활성화 함수\r\n",
        "                           # softmax는 여러 숫자를 확률로 만들고\r\n",
        "                           # sigmoid는 하나의 숫자를 확률로 만든다.\r\n",
        "print('RNN 요약')\r\n",
        "model.summary()"
      ],
      "execution_count": 15,
      "outputs": [
        {
          "output_type": "stream",
          "text": [
            "RNN 요약\n",
            "Model: \"sequential_4\"\n",
            "_________________________________________________________________\n",
            "Layer (type)                 Output Shape              Param #   \n",
            "=================================================================\n",
            "lstm_3 (LSTM)                (None, 300)               362400    \n",
            "_________________________________________________________________\n",
            "dense (Dense)                (None, 1)                 301       \n",
            "=================================================================\n",
            "Total params: 362,701\n",
            "Trainable params: 362,701\n",
            "Non-trainable params: 0\n",
            "_________________________________________________________________\n"
          ],
          "name": "stdout"
        }
      ]
    },
    {
      "cell_type": "code",
      "metadata": {
        "id": "NZFMeW83htoC"
      },
      "source": [
        ""
      ],
      "execution_count": null,
      "outputs": []
    }
  ]
}